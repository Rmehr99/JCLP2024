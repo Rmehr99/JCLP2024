{
 "cells": [
  {
   "cell_type": "code",
   "execution_count": 17,
   "id": "672dd82b",
   "metadata": {},
   "outputs": [],
   "source": [
    "import pandas as pd\n",
    "import openpyxl\n",
    "from statsmodels.stats.outliers_influence import variance_inflation_factor\n",
    "from statsmodels.tools.tools import add_constant\n",
    "from sklearn.metrics import mean_squared_error, r2_score\n",
    "from sklearn.model_selection import *\n",
    "from sklearn.linear_model import LinearRegression\n",
    "import statsmodels.api as sm\n",
    "import time\n",
    "from math import sqrt"
   ]
  },
  {
   "cell_type": "code",
   "execution_count": 18,
   "id": "5e7524be",
   "metadata": {
    "scrolled": true
   },
   "outputs": [],
   "source": [
    "start_time = time.time()\n",
    "file_path = \"F:\\\\TX DATA.xlsx\"\n",
    "SN = 'Sheet1'\n",
    "df =  pd.read_excel(file_path,sheet_name = SN, engine= 'openpyxl')"
   ]
  },
  {
   "cell_type": "code",
   "execution_count": 19,
   "id": "0fe6cee5",
   "metadata": {},
   "outputs": [],
   "source": [
    "df[\"Year\"] = df[\"UTC time\"].dt.year\n",
    "df[\"Month\"] =df[\"UTC time\"].dt.month\n",
    "df['Day'] = df[\"UTC time\"].dt.day\n",
    "df['Hour'] = df[\"UTC time\"].dt.hour"
   ]
  },
  {
   "cell_type": "code",
   "execution_count": 4,
   "id": "1cb773f9",
   "metadata": {},
   "outputs": [],
   "source": [
    "X = df[['Year', 'Month', 'Day', 'Hour']]\n",
    "Y = df['D']"
   ]
  },
  {
   "cell_type": "code",
   "execution_count": 5,
   "id": "49046e8c",
   "metadata": {},
   "outputs": [
    {
     "data": {
      "text/plain": [
       "LinearRegression()"
      ]
     },
     "execution_count": 5,
     "metadata": {},
     "output_type": "execute_result"
    }
   ],
   "source": [
    "model = LinearRegression()\n",
    "model.fit(X,Y)"
   ]
  },
  {
   "cell_type": "code",
   "execution_count": 6,
   "id": "a79cb91b",
   "metadata": {},
   "outputs": [
    {
     "name": "stdout",
     "output_type": "stream",
     "text": [
      "[37471.48647295 37672.55743215 37873.62839135 ... 50216.24565043\n",
      " 50417.31660963 50618.38756882]\n"
     ]
    }
   ],
   "source": [
    "y_pred = model.predict(X)\n",
    "print(y_pred)"
   ]
  },
  {
   "cell_type": "code",
   "execution_count": 7,
   "id": "e4362960",
   "metadata": {},
   "outputs": [],
   "source": [
    "df['Predictions'] = y_pred\n",
    "df.to_excel(file_path, sheet_name = SN , index=False)"
   ]
  },
  {
   "cell_type": "code",
   "execution_count": 8,
   "id": "4c0f09e9",
   "metadata": {},
   "outputs": [
    {
     "name": "stdout",
     "output_type": "stream",
     "text": [
      "Root Mean Squared Error: 9872.67343834914\n",
      "Mean Squared Error value is:  97469680.82028463\n",
      "R-sqaured value is: 0.12941535190247455\n"
     ]
    }
   ],
   "source": [
    "mse = mean_squared_error(Y, y_pred)\n",
    "r2 = r2_score(Y, y_pred)\n",
    "rmse = sqrt(mse)\n",
    "print(f\"Root Mean Squared Error: {rmse}\")\n",
    "print('Mean Squared Error value is: ',mse)\n",
    "print('R-sqaured value is:',r2)"
   ]
  },
  {
   "cell_type": "code",
   "execution_count": 9,
   "id": "7683ac35",
   "metadata": {},
   "outputs": [],
   "source": [
    "df['Predicted Demand'] = y_pred"
   ]
  },
  {
   "cell_type": "code",
   "execution_count": 10,
   "id": "a40cec5a",
   "metadata": {},
   "outputs": [],
   "source": [
    "df_vif = add_constant(df[['Month', 'Day', 'Hour']])  # adding a constant column for the intercept\n",
    "vif_data = pd.DataFrame()\n",
    "vif_data[\"feature\"] = df_vif.columns\n",
    "vif_data[\"VIF\"] = [variance_inflation_factor(df_vif.values, i) for i in range(df_vif.shape[1])]"
   ]
  },
  {
   "cell_type": "code",
   "execution_count": 11,
   "id": "a3f246de",
   "metadata": {},
   "outputs": [],
   "source": [
    "with pd.ExcelWriter(file_path, engine='openpyxl', mode='a') as writer:\n",
    "    vif_data.to_excel(writer, sheet_name='VIF Results', index=False)"
   ]
  },
  {
   "cell_type": "code",
   "execution_count": 12,
   "id": "3301673b",
   "metadata": {
    "scrolled": true
   },
   "outputs": [
    {
     "name": "stdout",
     "output_type": "stream",
     "text": [
      "const     0.000000e+00\n",
      "Year      0.000000e+00\n",
      "Month    3.417524e-297\n",
      "Day       9.641417e-01\n",
      "Hour      0.000000e+00\n",
      "dtype: float64\n"
     ]
    }
   ],
   "source": [
    "X = sm.add_constant(X)\n",
    "model = sm.OLS(Y, X).fit()\n",
    "p_values = model.pvalues\n",
    "print(p_values)"
   ]
  },
  {
   "cell_type": "code",
   "execution_count": 13,
   "id": "8dce1651",
   "metadata": {},
   "outputs": [],
   "source": [
    "with pd.ExcelWriter(file_path, engine='openpyxl', mode='a') as writer:\n",
    "    p_values.to_frame(name='P-Value').to_excel(writer, sheet_name='Regression P-Values', index=True)"
   ]
  },
  {
   "cell_type": "code",
   "execution_count": 15,
   "id": "a1449049",
   "metadata": {},
   "outputs": [],
   "source": [
    "book = openpyxl.load_workbook(file_path)\n",
    "sheet = book['Sheet1']\n",
    "\n",
    "column = sheet.max_column + 1\n",
    "sheet.cell(row=1, column=column).value = 'Predict Demand'\n",
    "for index, value in enumerate(y_pred, start=2):\n",
    "    sheet.cell(row=index, column=column).value = value\n",
    "book.save(file_path)"
   ]
  },
  {
   "cell_type": "code",
   "execution_count": 16,
   "id": "6b18316c",
   "metadata": {},
   "outputs": [
    {
     "name": "stdout",
     "output_type": "stream",
     "text": [
      "Elapsed time: 150.53902292251587 seconds\n"
     ]
    }
   ],
   "source": [
    "end_time = time.time()\n",
    "elapsed_time = end_time - start_time\n",
    "print(f\"Elapsed time: {elapsed_time} seconds\")"
   ]
  },
  {
   "cell_type": "code",
   "execution_count": null,
   "id": "74f7e07d",
   "metadata": {},
   "outputs": [],
   "source": []
  }
 ],
 "metadata": {
  "kernelspec": {
   "display_name": "Python 3 (ipykernel)",
   "language": "python",
   "name": "python3"
  },
  "language_info": {
   "codemirror_mode": {
    "name": "ipython",
    "version": 3
   },
   "file_extension": ".py",
   "mimetype": "text/x-python",
   "name": "python",
   "nbconvert_exporter": "python",
   "pygments_lexer": "ipython3",
   "version": "3.9.13"
  }
 },
 "nbformat": 4,
 "nbformat_minor": 5
}
