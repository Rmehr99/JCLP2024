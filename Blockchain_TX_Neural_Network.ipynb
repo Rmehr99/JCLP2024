{
 "cells": [
  {
   "cell_type": "code",
   "execution_count": 1,
   "id": "672dd82b",
   "metadata": {},
   "outputs": [],
   "source": [
    "import pandas as pd\n",
    "import openpyxl\n",
    "from sklearn.model_selection import *\n",
    "from tensorflow.keras.models import Sequential\n",
    "from tensorflow.keras.layers import Dense\n",
    "import numpy as np\n",
    "from sklearn.metrics import mean_squared_error, r2_score"
   ]
  },
  {
   "cell_type": "code",
   "execution_count": 2,
   "id": "5e7524be",
   "metadata": {},
   "outputs": [],
   "source": [
    "file_path = \"F:\\\\Block.xlsx\"\n",
    "SN = \"Sheet1\"\n",
    "df =  pd.read_excel(file_path, sheet_name = SN, engine= 'openpyxl')"
   ]
  },
  {
   "cell_type": "code",
   "execution_count": 3,
   "id": "bfe46c8a",
   "metadata": {},
   "outputs": [],
   "source": [
    "X_normal = df[['Hour', 'Day', 'Month', 'Year']]"
   ]
  },
  {
   "cell_type": "code",
   "execution_count": 4,
   "id": "97f154fc",
   "metadata": {},
   "outputs": [],
   "source": [
    "Y_normal = df['D']"
   ]
  },
  {
   "cell_type": "code",
   "execution_count": 5,
   "id": "b9c2bb2d",
   "metadata": {},
   "outputs": [],
   "source": [
    "X_train, X_test, Y_train, Y_test = train_test_split(\n",
    "    X_normal, Y_normal, test_size=0.2, random_state=42)"
   ]
  },
  {
   "cell_type": "code",
   "execution_count": 6,
   "id": "d01f96d6",
   "metadata": {},
   "outputs": [
    {
     "data": {
      "text/plain": [
       "((59194, 4), (14799, 4), (59194,), (14799,))"
      ]
     },
     "execution_count": 6,
     "metadata": {},
     "output_type": "execute_result"
    }
   ],
   "source": [
    "X_train.shape, X_test.shape, Y_train.shape, Y_test.shape"
   ]
  },
  {
   "cell_type": "code",
   "execution_count": 7,
   "id": "515882a3",
   "metadata": {},
   "outputs": [],
   "source": [
    "model = Sequential()\n",
    "model.add(Dense(10, activation='relu', input_shape=(4,)))\n",
    "model.add(Dense(8, activation='relu'))\n",
    "model.add(Dense(1, activation = 'linear'))"
   ]
  },
  {
   "cell_type": "code",
   "execution_count": 8,
   "id": "e05a3a21",
   "metadata": {},
   "outputs": [],
   "source": [
    "model.compile(optimizer='adam', loss = 'mean_squared_error', metrics = ['mean_squared_error'])"
   ]
  },
  {
   "cell_type": "code",
   "execution_count": 9,
   "id": "591664cd",
   "metadata": {},
   "outputs": [
    {
     "name": "stdout",
     "output_type": "stream",
     "text": [
      "Epoch 1/100\n",
      "1480/1480 [==============================] - 4s 2ms/step - loss: 2036057344.0000 - mean_squared_error: 2036057344.0000 - val_loss: 1921756416.0000 - val_mean_squared_error: 1921756416.0000\n",
      "Epoch 2/100\n",
      "1480/1480 [==============================] - 3s 2ms/step - loss: 1647460608.0000 - mean_squared_error: 1647460608.0000 - val_loss: 1293303808.0000 - val_mean_squared_error: 1293303808.0000\n",
      "Epoch 3/100\n",
      "1480/1480 [==============================] - 2s 2ms/step - loss: 896663872.0000 - mean_squared_error: 896663872.0000 - val_loss: 523789216.0000 - val_mean_squared_error: 523789216.0000\n",
      "Epoch 4/100\n",
      "1480/1480 [==============================] - 2s 2ms/step - loss: 298828096.0000 - mean_squared_error: 298828096.0000 - val_loss: 163960672.0000 - val_mean_squared_error: 163960672.0000\n",
      "Epoch 5/100\n",
      "1480/1480 [==============================] - 3s 2ms/step - loss: 138522464.0000 - mean_squared_error: 138522464.0000 - val_loss: 134257648.0000 - val_mean_squared_error: 134257648.0000\n",
      "Epoch 6/100\n",
      "1480/1480 [==============================] - 2s 2ms/step - loss: 129817968.0000 - mean_squared_error: 129817968.0000 - val_loss: 131058680.0000 - val_mean_squared_error: 131058680.0000\n",
      "Epoch 7/100\n",
      "1480/1480 [==============================] - 2s 2ms/step - loss: 126101336.0000 - mean_squared_error: 126101336.0000 - val_loss: 127168928.0000 - val_mean_squared_error: 127168928.0000\n",
      "Epoch 8/100\n",
      "1480/1480 [==============================] - 2s 2ms/step - loss: 122098784.0000 - mean_squared_error: 122098784.0000 - val_loss: 123347624.0000 - val_mean_squared_error: 123347624.0000\n",
      "Epoch 9/100\n",
      "1480/1480 [==============================] - 2s 2ms/step - loss: 118394984.0000 - mean_squared_error: 118394984.0000 - val_loss: 119926792.0000 - val_mean_squared_error: 119926792.0000\n",
      "Epoch 10/100\n",
      "1480/1480 [==============================] - 2s 2ms/step - loss: 115204848.0000 - mean_squared_error: 115204848.0000 - val_loss: 117031696.0000 - val_mean_squared_error: 117031696.0000\n",
      "Epoch 11/100\n",
      "1480/1480 [==============================] - 2s 2ms/step - loss: 112456680.0000 - mean_squared_error: 112456680.0000 - val_loss: 114467848.0000 - val_mean_squared_error: 114467848.0000\n",
      "Epoch 12/100\n",
      "1480/1480 [==============================] - 2s 2ms/step - loss: 110079688.0000 - mean_squared_error: 110079688.0000 - val_loss: 112291464.0000 - val_mean_squared_error: 112291464.0000\n",
      "Epoch 13/100\n",
      "1480/1480 [==============================] - 2s 2ms/step - loss: 108032200.0000 - mean_squared_error: 108032200.0000 - val_loss: 110345496.0000 - val_mean_squared_error: 110345496.0000\n",
      "Epoch 14/100\n",
      "1480/1480 [==============================] - 2s 2ms/step - loss: 106274168.0000 - mean_squared_error: 106274168.0000 - val_loss: 108701176.0000 - val_mean_squared_error: 108701176.0000\n",
      "Epoch 15/100\n",
      "1480/1480 [==============================] - 2s 2ms/step - loss: 104777672.0000 - mean_squared_error: 104777672.0000 - val_loss: 107326608.0000 - val_mean_squared_error: 107326608.0000\n",
      "Epoch 16/100\n",
      "1480/1480 [==============================] - 2s 2ms/step - loss: 103485328.0000 - mean_squared_error: 103485328.0000 - val_loss: 106091328.0000 - val_mean_squared_error: 106091328.0000\n",
      "Epoch 17/100\n",
      "1480/1480 [==============================] - 2s 2ms/step - loss: 102381872.0000 - mean_squared_error: 102381872.0000 - val_loss: 105027120.0000 - val_mean_squared_error: 105027120.0000\n",
      "Epoch 18/100\n",
      "1480/1480 [==============================] - 2s 2ms/step - loss: 101432040.0000 - mean_squared_error: 101432040.0000 - val_loss: 104157504.0000 - val_mean_squared_error: 104157504.0000\n",
      "Epoch 19/100\n",
      "1480/1480 [==============================] - 2s 2ms/step - loss: 100630256.0000 - mean_squared_error: 100630256.0000 - val_loss: 103409232.0000 - val_mean_squared_error: 103409232.0000\n",
      "Epoch 20/100\n",
      "1480/1480 [==============================] - 2s 2ms/step - loss: 99965608.0000 - mean_squared_error: 99965608.0000 - val_loss: 102711656.0000 - val_mean_squared_error: 102711656.0000\n",
      "Epoch 21/100\n",
      "1480/1480 [==============================] - 2s 2ms/step - loss: 99383136.0000 - mean_squared_error: 99383136.0000 - val_loss: 102225608.0000 - val_mean_squared_error: 102225608.0000\n",
      "Epoch 22/100\n",
      "1480/1480 [==============================] - 2s 2ms/step - loss: 98934048.0000 - mean_squared_error: 98934048.0000 - val_loss: 101701352.0000 - val_mean_squared_error: 101701352.0000\n",
      "Epoch 23/100\n",
      "1480/1480 [==============================] - 2s 2ms/step - loss: 98547568.0000 - mean_squared_error: 98547568.0000 - val_loss: 101316224.0000 - val_mean_squared_error: 101316224.0000\n",
      "Epoch 24/100\n",
      "1480/1480 [==============================] - 2s 2ms/step - loss: 98230624.0000 - mean_squared_error: 98230624.0000 - val_loss: 101004248.0000 - val_mean_squared_error: 101004248.0000\n",
      "Epoch 25/100\n",
      "1480/1480 [==============================] - 2s 1ms/step - loss: 97981680.0000 - mean_squared_error: 97981680.0000 - val_loss: 100766416.0000 - val_mean_squared_error: 100766416.0000\n",
      "Epoch 26/100\n",
      "1480/1480 [==============================] - 3s 2ms/step - loss: 97759368.0000 - mean_squared_error: 97759368.0000 - val_loss: 100532016.0000 - val_mean_squared_error: 100532016.0000\n",
      "Epoch 27/100\n",
      "1480/1480 [==============================] - 3s 2ms/step - loss: 97602520.0000 - mean_squared_error: 97602520.0000 - val_loss: 100353800.0000 - val_mean_squared_error: 100353800.0000\n",
      "Epoch 28/100\n",
      "1480/1480 [==============================] - 3s 2ms/step - loss: 97459928.0000 - mean_squared_error: 97459928.0000 - val_loss: 100215752.0000 - val_mean_squared_error: 100215752.0000\n",
      "Epoch 29/100\n",
      "1480/1480 [==============================] - 3s 2ms/step - loss: 97341232.0000 - mean_squared_error: 97341232.0000 - val_loss: 100087704.0000 - val_mean_squared_error: 100087704.0000\n",
      "Epoch 30/100\n",
      "1480/1480 [==============================] - 3s 2ms/step - loss: 97254976.0000 - mean_squared_error: 97254976.0000 - val_loss: 100023824.0000 - val_mean_squared_error: 100023824.0000\n",
      "Epoch 31/100\n",
      "1480/1480 [==============================] - 2s 2ms/step - loss: 97189104.0000 - mean_squared_error: 97189104.0000 - val_loss: 99912616.0000 - val_mean_squared_error: 99912616.0000\n",
      "Epoch 32/100\n",
      "1480/1480 [==============================] - 3s 2ms/step - loss: 97134992.0000 - mean_squared_error: 97134992.0000 - val_loss: 99855640.0000 - val_mean_squared_error: 99855640.0000\n",
      "Epoch 33/100\n",
      "1480/1480 [==============================] - 3s 2ms/step - loss: 97088696.0000 - mean_squared_error: 97088696.0000 - val_loss: 99873384.0000 - val_mean_squared_error: 99873384.0000\n",
      "Epoch 34/100\n",
      "1480/1480 [==============================] - 2s 2ms/step - loss: 97052336.0000 - mean_squared_error: 97052336.0000 - val_loss: 99754712.0000 - val_mean_squared_error: 99754712.0000\n",
      "Epoch 35/100\n",
      "1480/1480 [==============================] - 2s 2ms/step - loss: 97030744.0000 - mean_squared_error: 97030744.0000 - val_loss: 99744200.0000 - val_mean_squared_error: 99744200.0000\n",
      "Epoch 36/100\n",
      "1480/1480 [==============================] - 2s 2ms/step - loss: 97005688.0000 - mean_squared_error: 97005688.0000 - val_loss: 99687736.0000 - val_mean_squared_error: 99687736.0000\n",
      "Epoch 37/100\n",
      "1480/1480 [==============================] - 3s 2ms/step - loss: 96977368.0000 - mean_squared_error: 96977368.0000 - val_loss: 99665368.0000 - val_mean_squared_error: 99665368.0000\n",
      "Epoch 38/100\n",
      "1480/1480 [==============================] - 2s 2ms/step - loss: 96987840.0000 - mean_squared_error: 96987840.0000 - val_loss: 99681160.0000 - val_mean_squared_error: 99681160.0000\n",
      "Epoch 39/100\n",
      "1480/1480 [==============================] - 2s 2ms/step - loss: 96979328.0000 - mean_squared_error: 96979328.0000 - val_loss: 99639368.0000 - val_mean_squared_error: 99639368.0000\n",
      "Epoch 40/100\n",
      "1480/1480 [==============================] - 2s 2ms/step - loss: 96971192.0000 - mean_squared_error: 96971192.0000 - val_loss: 99633688.0000 - val_mean_squared_error: 99633688.0000\n",
      "Epoch 41/100\n",
      "1480/1480 [==============================] - 3s 2ms/step - loss: 96962576.0000 - mean_squared_error: 96962576.0000 - val_loss: 99617600.0000 - val_mean_squared_error: 99617600.0000\n",
      "Epoch 42/100\n",
      "1480/1480 [==============================] - 2s 2ms/step - loss: 96953336.0000 - mean_squared_error: 96953336.0000 - val_loss: 99605288.0000 - val_mean_squared_error: 99605288.0000\n",
      "Epoch 43/100\n",
      "1480/1480 [==============================] - 2s 2ms/step - loss: 96955280.0000 - mean_squared_error: 96955280.0000 - val_loss: 99598560.0000 - val_mean_squared_error: 99598560.0000\n",
      "Epoch 44/100\n",
      "1480/1480 [==============================] - 2s 2ms/step - loss: 96952272.0000 - mean_squared_error: 96952272.0000 - val_loss: 99582968.0000 - val_mean_squared_error: 99582968.0000\n",
      "Epoch 45/100\n",
      "1480/1480 [==============================] - 3s 2ms/step - loss: 96945000.0000 - mean_squared_error: 96945000.0000 - val_loss: 99580408.0000 - val_mean_squared_error: 99580408.0000\n",
      "Epoch 46/100\n",
      "1480/1480 [==============================] - 3s 2ms/step - loss: 96943816.0000 - mean_squared_error: 96943816.0000 - val_loss: 99575192.0000 - val_mean_squared_error: 99575192.0000\n",
      "Epoch 47/100\n",
      "1480/1480 [==============================] - 3s 2ms/step - loss: 96947120.0000 - mean_squared_error: 96947120.0000 - val_loss: 99574256.0000 - val_mean_squared_error: 99574256.0000\n",
      "Epoch 48/100\n",
      "1480/1480 [==============================] - 3s 2ms/step - loss: 96943440.0000 - mean_squared_error: 96943440.0000 - val_loss: 99572992.0000 - val_mean_squared_error: 99572992.0000\n",
      "Epoch 49/100\n",
      "1480/1480 [==============================] - 3s 2ms/step - loss: 96933384.0000 - mean_squared_error: 96933384.0000 - val_loss: 99628016.0000 - val_mean_squared_error: 99628016.0000\n",
      "Epoch 50/100\n",
      "1480/1480 [==============================] - 2s 2ms/step - loss: 96938232.0000 - mean_squared_error: 96938232.0000 - val_loss: 99568456.0000 - val_mean_squared_error: 99568456.0000\n",
      "Epoch 51/100\n",
      "1480/1480 [==============================] - 3s 2ms/step - loss: 96934248.0000 - mean_squared_error: 96934248.0000 - val_loss: 99579704.0000 - val_mean_squared_error: 99579704.0000\n",
      "Epoch 52/100\n",
      "1480/1480 [==============================] - 3s 2ms/step - loss: 96939216.0000 - mean_squared_error: 96939216.0000 - val_loss: 99580136.0000 - val_mean_squared_error: 99580136.0000\n",
      "Epoch 53/100\n",
      "1480/1480 [==============================] - 3s 2ms/step - loss: 96945072.0000 - mean_squared_error: 96945072.0000 - val_loss: 99578128.0000 - val_mean_squared_error: 99578128.0000\n",
      "Epoch 54/100\n",
      "1480/1480 [==============================] - 3s 2ms/step - loss: 96937632.0000 - mean_squared_error: 96937632.0000 - val_loss: 99559648.0000 - val_mean_squared_error: 99559648.0000\n",
      "Epoch 55/100\n",
      "1480/1480 [==============================] - 3s 2ms/step - loss: 96937528.0000 - mean_squared_error: 96937528.0000 - val_loss: 99571264.0000 - val_mean_squared_error: 99571264.0000\n",
      "Epoch 56/100\n",
      "1480/1480 [==============================] - 3s 2ms/step - loss: 96932776.0000 - mean_squared_error: 96932776.0000 - val_loss: 99561560.0000 - val_mean_squared_error: 99561560.0000\n",
      "Epoch 57/100\n",
      "1480/1480 [==============================] - 3s 2ms/step - loss: 96931912.0000 - mean_squared_error: 96931912.0000 - val_loss: 99566216.0000 - val_mean_squared_error: 99566216.0000\n",
      "Epoch 58/100\n",
      "1480/1480 [==============================] - 3s 2ms/step - loss: 96940680.0000 - mean_squared_error: 96940680.0000 - val_loss: 99572496.0000 - val_mean_squared_error: 99572496.0000\n",
      "Epoch 59/100\n",
      "1480/1480 [==============================] - 3s 2ms/step - loss: 96939128.0000 - mean_squared_error: 96939128.0000 - val_loss: 99558776.0000 - val_mean_squared_error: 99558776.0000\n",
      "Epoch 60/100\n",
      "1480/1480 [==============================] - 2s 2ms/step - loss: 96941656.0000 - mean_squared_error: 96941656.0000 - val_loss: 99560032.0000 - val_mean_squared_error: 99560032.0000\n",
      "Epoch 61/100\n",
      "1480/1480 [==============================] - 3s 2ms/step - loss: 96940856.0000 - mean_squared_error: 96940856.0000 - val_loss: 99572440.0000 - val_mean_squared_error: 99572440.0000\n",
      "Epoch 62/100\n",
      "1480/1480 [==============================] - 3s 2ms/step - loss: 96944968.0000 - mean_squared_error: 96944968.0000 - val_loss: 99558968.0000 - val_mean_squared_error: 99558968.0000\n",
      "Epoch 63/100\n",
      "1480/1480 [==============================] - 3s 2ms/step - loss: 96936752.0000 - mean_squared_error: 96936752.0000 - val_loss: 99561232.0000 - val_mean_squared_error: 99561232.0000\n",
      "Epoch 64/100\n",
      "1480/1480 [==============================] - 2s 2ms/step - loss: 96937736.0000 - mean_squared_error: 96937736.0000 - val_loss: 99550464.0000 - val_mean_squared_error: 99550464.0000\n",
      "Epoch 65/100\n",
      "1480/1480 [==============================] - 3s 2ms/step - loss: 96941048.0000 - mean_squared_error: 96941048.0000 - val_loss: 99548944.0000 - val_mean_squared_error: 99548944.0000\n",
      "Epoch 66/100\n",
      "1480/1480 [==============================] - 3s 2ms/step - loss: 96918048.0000 - mean_squared_error: 96918048.0000 - val_loss: 99580552.0000 - val_mean_squared_error: 99580552.0000\n",
      "Epoch 67/100\n",
      "1480/1480 [==============================] - 3s 2ms/step - loss: 96942632.0000 - mean_squared_error: 96942632.0000 - val_loss: 99554360.0000 - val_mean_squared_error: 99554360.0000\n",
      "Epoch 68/100\n",
      "1480/1480 [==============================] - 2s 2ms/step - loss: 96932656.0000 - mean_squared_error: 96932656.0000 - val_loss: 99569296.0000 - val_mean_squared_error: 99569296.0000\n",
      "Epoch 69/100\n",
      "1480/1480 [==============================] - 3s 2ms/step - loss: 96934864.0000 - mean_squared_error: 96934864.0000 - val_loss: 99554160.0000 - val_mean_squared_error: 99554160.0000\n",
      "Epoch 70/100\n",
      "1480/1480 [==============================] - 3s 2ms/step - loss: 96931000.0000 - mean_squared_error: 96931000.0000 - val_loss: 99553128.0000 - val_mean_squared_error: 99553128.0000\n",
      "Epoch 71/100\n",
      "1480/1480 [==============================] - 3s 2ms/step - loss: 96935176.0000 - mean_squared_error: 96935176.0000 - val_loss: 99549520.0000 - val_mean_squared_error: 99549520.0000\n",
      "Epoch 72/100\n",
      "1480/1480 [==============================] - 3s 2ms/step - loss: 96938816.0000 - mean_squared_error: 96938816.0000 - val_loss: 99558536.0000 - val_mean_squared_error: 99558536.0000\n",
      "Epoch 73/100\n",
      "1480/1480 [==============================] - 3s 2ms/step - loss: 96931112.0000 - mean_squared_error: 96931112.0000 - val_loss: 99601288.0000 - val_mean_squared_error: 99601288.0000\n",
      "Epoch 74/100\n",
      "1480/1480 [==============================] - 3s 2ms/step - loss: 96927304.0000 - mean_squared_error: 96927304.0000 - val_loss: 99561832.0000 - val_mean_squared_error: 99561832.0000\n",
      "Epoch 75/100\n",
      "1480/1480 [==============================] - 3s 2ms/step - loss: 96937328.0000 - mean_squared_error: 96937328.0000 - val_loss: 99548760.0000 - val_mean_squared_error: 99548760.0000\n",
      "Epoch 76/100\n",
      "1480/1480 [==============================] - 3s 2ms/step - loss: 96932664.0000 - mean_squared_error: 96932664.0000 - val_loss: 99571384.0000 - val_mean_squared_error: 99571384.0000\n",
      "Epoch 77/100\n",
      "1480/1480 [==============================] - 3s 2ms/step - loss: 96939584.0000 - mean_squared_error: 96939584.0000 - val_loss: 99577384.0000 - val_mean_squared_error: 99577384.0000\n",
      "Epoch 78/100\n",
      "1480/1480 [==============================] - 3s 2ms/step - loss: 96931144.0000 - mean_squared_error: 96931144.0000 - val_loss: 99581504.0000 - val_mean_squared_error: 99581504.0000\n",
      "Epoch 79/100\n",
      "1480/1480 [==============================] - 3s 2ms/step - loss: 96933896.0000 - mean_squared_error: 96933896.0000 - val_loss: 99549112.0000 - val_mean_squared_error: 99549112.0000\n",
      "Epoch 80/100\n",
      "1480/1480 [==============================] - 3s 2ms/step - loss: 96930560.0000 - mean_squared_error: 96930560.0000 - val_loss: 99615768.0000 - val_mean_squared_error: 99615768.0000\n",
      "Epoch 81/100\n",
      "1480/1480 [==============================] - 3s 2ms/step - loss: 96938816.0000 - mean_squared_error: 96938816.0000 - val_loss: 99546288.0000 - val_mean_squared_error: 99546288.0000\n",
      "Epoch 82/100\n",
      "1480/1480 [==============================] - 3s 2ms/step - loss: 96937424.0000 - mean_squared_error: 96937424.0000 - val_loss: 99561280.0000 - val_mean_squared_error: 99561280.0000\n",
      "Epoch 83/100\n",
      "1480/1480 [==============================] - 3s 2ms/step - loss: 96927584.0000 - mean_squared_error: 96927584.0000 - val_loss: 99546624.0000 - val_mean_squared_error: 99546624.0000\n",
      "Epoch 84/100\n",
      "1480/1480 [==============================] - 3s 2ms/step - loss: 96938512.0000 - mean_squared_error: 96938512.0000 - val_loss: 99558136.0000 - val_mean_squared_error: 99558136.0000\n",
      "Epoch 85/100\n",
      "1480/1480 [==============================] - 3s 2ms/step - loss: 96941104.0000 - mean_squared_error: 96941104.0000 - val_loss: 99546432.0000 - val_mean_squared_error: 99546432.0000\n",
      "Epoch 86/100\n",
      "1480/1480 [==============================] - 2s 2ms/step - loss: 96933784.0000 - mean_squared_error: 96933784.0000 - val_loss: 99559808.0000 - val_mean_squared_error: 99559808.0000\n",
      "Epoch 87/100\n",
      "1480/1480 [==============================] - 2s 2ms/step - loss: 96934520.0000 - mean_squared_error: 96934520.0000 - val_loss: 99556576.0000 - val_mean_squared_error: 99556576.0000\n",
      "Epoch 88/100\n",
      "1480/1480 [==============================] - 2s 2ms/step - loss: 96943072.0000 - mean_squared_error: 96943072.0000 - val_loss: 99585224.0000 - val_mean_squared_error: 99585224.0000\n",
      "Epoch 89/100\n",
      "1480/1480 [==============================] - 3s 2ms/step - loss: 96935144.0000 - mean_squared_error: 96935144.0000 - val_loss: 99584520.0000 - val_mean_squared_error: 99584520.0000\n",
      "Epoch 90/100\n",
      "1480/1480 [==============================] - 2s 2ms/step - loss: 96941872.0000 - mean_squared_error: 96941872.0000 - val_loss: 99564488.0000 - val_mean_squared_error: 99564488.0000\n",
      "Epoch 91/100\n",
      "1480/1480 [==============================] - 2s 2ms/step - loss: 96943912.0000 - mean_squared_error: 96943912.0000 - val_loss: 99547264.0000 - val_mean_squared_error: 99547264.0000\n",
      "Epoch 92/100\n",
      "1480/1480 [==============================] - 2s 2ms/step - loss: 96936824.0000 - mean_squared_error: 96936824.0000 - val_loss: 99546840.0000 - val_mean_squared_error: 99546840.0000\n",
      "Epoch 93/100\n",
      "1480/1480 [==============================] - 3s 2ms/step - loss: 96924048.0000 - mean_squared_error: 96924048.0000 - val_loss: 99579688.0000 - val_mean_squared_error: 99579688.0000\n",
      "Epoch 94/100\n",
      "1480/1480 [==============================] - 3s 2ms/step - loss: 96938024.0000 - mean_squared_error: 96938024.0000 - val_loss: 99576792.0000 - val_mean_squared_error: 99576792.0000\n",
      "Epoch 95/100\n",
      "1480/1480 [==============================] - 3s 2ms/step - loss: 96938584.0000 - mean_squared_error: 96938584.0000 - val_loss: 99564768.0000 - val_mean_squared_error: 99564768.0000\n",
      "Epoch 96/100\n",
      "1480/1480 [==============================] - 2s 2ms/step - loss: 96944864.0000 - mean_squared_error: 96944864.0000 - val_loss: 99549776.0000 - val_mean_squared_error: 99549776.0000\n",
      "Epoch 97/100\n",
      "1480/1480 [==============================] - 3s 2ms/step - loss: 96937424.0000 - mean_squared_error: 96937424.0000 - val_loss: 99548304.0000 - val_mean_squared_error: 99548304.0000\n",
      "Epoch 98/100\n",
      "1480/1480 [==============================] - 2s 2ms/step - loss: 96922712.0000 - mean_squared_error: 96922712.0000 - val_loss: 99559864.0000 - val_mean_squared_error: 99559864.0000\n",
      "Epoch 99/100\n",
      "1480/1480 [==============================] - 2s 2ms/step - loss: 96938200.0000 - mean_squared_error: 96938200.0000 - val_loss: 99546112.0000 - val_mean_squared_error: 99546112.0000\n",
      "Epoch 100/100\n",
      "1480/1480 [==============================] - 2s 2ms/step - loss: 96932856.0000 - mean_squared_error: 96932856.0000 - val_loss: 99567056.0000 - val_mean_squared_error: 99567056.0000\n"
     ]
    }
   ],
   "source": [
    "Train = model.fit(X_train, Y_train,epochs=100, batch_size=32, validation_split=0.2, verbose=1 )"
   ]
  },
  {
   "cell_type": "code",
   "execution_count": 10,
   "id": "5f037994",
   "metadata": {},
   "outputs": [],
   "source": [
    "X_new_data = pd.DataFrame({\n",
    "    'Year': df['Month'],'Month': df['Month'],\n",
    "    'Day': df['Day'], 'Hour': df['Hour']})"
   ]
  },
  {
   "cell_type": "code",
   "execution_count": 15,
   "id": "197e65b3",
   "metadata": {},
   "outputs": [
    {
     "name": "stdout",
     "output_type": "stream",
     "text": [
      "463/463 [==============================] - 0s 922us/step\n",
      "[[46535.215]\n",
      " [42524.797]\n",
      " [43969.145]\n",
      " ...\n",
      " [43169.38 ]\n",
      " [39920.07 ]\n",
      " [47386.137]]\n",
      "Test R-squared: 0.12954902741779473\n"
     ]
    }
   ],
   "source": [
    "new_predictions = model.predict(X_test)\n",
    "print(new_predictions)\n",
    "r_squared_test = r2_score(Y_test, new_predictions)\n",
    "\n",
    "print(f\"Test R-squared: {r_squared_test}\")"
   ]
  },
  {
   "cell_type": "code",
   "execution_count": 17,
   "id": "372718f4",
   "metadata": {},
   "outputs": [
    {
     "name": "stdout",
     "output_type": "stream",
     "text": [
      "Test Loss: 97585552.0\n",
      "Test MSE: 97585552.0\n",
      "Test RMSE: 9878.53997309319\n",
      "R-squared: 0.12954902741779473\n"
     ]
    }
   ],
   "source": [
    "import numpy as np\n",
    "\n",
    "results = model.evaluate(X_test, Y_test, verbose=0)\n",
    "test_loss, test_mse = results \n",
    "test_rmse = np.sqrt(test_mse)\n",
    "r_squared = r2_score(Y_test, new_predictions)\n",
    "\n",
    "print(f\"Test Loss: {test_loss}\")\n",
    "print(f\"Test MSE: {test_mse}\")\n",
    "print(f\"Test RMSE: {test_rmse}\")\n",
    "print(f\"R-squared: {r_squared}\")\n"
   ]
  },
  {
   "cell_type": "code",
   "execution_count": 88,
   "id": "75086fa1",
   "metadata": {},
   "outputs": [],
   "source": [
    "original_df = pd.read_excel(file_path, sheet_name=SN)\n",
    "original_df['Predicted_D_Neual_Network2'] = new_predictions.ravel()\n",
    "updated_file_path = 'Block.xlsx'\n",
    "original_df.to_excel(file_path, index=False)"
   ]
  },
  {
   "cell_type": "code",
   "execution_count": 74,
   "id": "973989c8",
   "metadata": {
    "scrolled": true
   },
   "outputs": [
    {
     "name": "stdout",
     "output_type": "stream",
     "text": [
      "Weights: [[ 4.228743   -0.48370868  4.563002    4.174696    4.4002523   3.5938907\n",
      "  -0.5635346   4.020681   -0.11879639  4.434362  ]\n",
      " [ 3.5048869  -0.36759228  3.7583554   3.8188746   4.099234    4.118369\n",
      "  -0.67493576  3.9305263   0.21039191  4.125457  ]\n",
      " [ 5.3615727  -0.38647386  4.475958    4.9969864   5.3217835   4.183259\n",
      "  -0.15432143  5.174403   -0.79814523  5.217511  ]]\n",
      "Biases: [ 4.747367    0.          4.851735    4.7114787   4.777847    4.7619042\n",
      "  0.          4.7612185  -0.18798621  4.838734  ]\n",
      "Weights: [[ 4.1379213e+00  1.4673698e-01  7.2408870e-02 -5.3953874e-01\n",
      "   4.5505729e-01  4.7556581e+00 -3.6588854e-01 -3.0182788e-01]\n",
      " [ 4.6070707e-01  4.1498208e-01  3.1403625e-01 -2.1999097e-01\n",
      "   3.1511641e-01  2.2652149e-02 -4.0260434e-01 -2.9258290e-01]\n",
      " [ 4.2604852e+00 -3.9437336e-01 -4.8126210e-03 -2.3522329e-01\n",
      "  -3.2786390e-01  4.5348096e+00  4.1458935e-01 -4.0848231e-01]\n",
      " [ 4.1819863e+00 -2.6830003e-01  2.1542715e-01 -3.1144094e-01\n",
      "  -3.2220355e-01  4.7303538e+00 -4.6093684e-01 -6.8638596e-04]\n",
      " [ 4.4233537e+00 -5.2443087e-01 -5.4789335e-01 -5.3073031e-01\n",
      "  -3.1847106e-03  3.9112253e+00  6.1674535e-02 -6.4950293e-01]\n",
      " [ 4.8602543e+00 -2.7555686e-01 -1.6922227e-01  4.5046508e-01\n",
      "  -4.4332495e-01  4.8710651e+00 -6.9031715e-02 -9.1699742e-02]\n",
      " [ 2.6061219e-01 -2.6700458e-01 -8.8685244e-02 -2.4434835e-01\n",
      "  -5.6674629e-01  1.1528027e-01  5.4609561e-01 -2.7260244e-01]\n",
      " [ 4.9352407e+00 -2.8631923e-01  1.5538198e-01  1.0713726e-01\n",
      "  -4.2734331e-01  4.2879696e+00  6.3937783e-02  2.5062025e-01]\n",
      " [-4.1832104e-01 -3.5711330e-01 -2.7825743e-01 -4.3294042e-01\n",
      "  -2.0844172e-01 -8.5943565e-02 -5.1435661e-01 -5.3757000e-01]\n",
      " [ 4.7463493e+00  3.8475913e-01 -1.5707765e-02 -4.8869762e-01\n",
      "   1.3974193e-01  4.0830560e+00 -2.5730032e-01  2.3439920e-01]]\n",
      "Biases: [ 3.9724486   0.         -0.12784886  0.         -0.06049192  3.6518843\n",
      "  0.         -0.08046168]\n",
      "Weights: [[ 4.596644  ]\n",
      " [-0.41205874]\n",
      " [-0.50005066]\n",
      " [ 0.35174227]\n",
      " [-0.310739  ]\n",
      " [ 5.14844   ]\n",
      " [ 0.5375258 ]\n",
      " [-0.63513076]]\n",
      "Biases: [2.6337807]\n"
     ]
    }
   ],
   "source": [
    "for layer in model.layers:\n",
    "    weights, biases = layer.get_weights()\n",
    "    print(\"Weights:\", weights)\n",
    "    print(\"Biases:\", biases)"
   ]
  },
  {
   "cell_type": "code",
   "execution_count": null,
   "id": "4d9c6b74",
   "metadata": {},
   "outputs": [],
   "source": []
  }
 ],
 "metadata": {
  "kernelspec": {
   "display_name": "Python 3 (ipykernel)",
   "language": "python",
   "name": "python3"
  },
  "language_info": {
   "codemirror_mode": {
    "name": "ipython",
    "version": 3
   },
   "file_extension": ".py",
   "mimetype": "text/x-python",
   "name": "python",
   "nbconvert_exporter": "python",
   "pygments_lexer": "ipython3",
   "version": "3.9.13"
  }
 },
 "nbformat": 4,
 "nbformat_minor": 5
}
