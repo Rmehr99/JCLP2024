{
 "cells": [
  {
   "cell_type": "code",
   "execution_count": 1,
   "id": "12614e26",
   "metadata": {},
   "outputs": [],
   "source": [
    "import pandas as pd\n",
    "import openpyxl\n",
    "from sklearn.metrics import *\n",
    "from sklearn.neighbors import *\n",
    "from sklearn.model_selection import train_test_split\n",
    "from math import sqrt\n",
    "import time\n",
    "start_time = time.time()"
   ]
  },
  {
   "cell_type": "code",
   "execution_count": 2,
   "id": "86475cf0",
   "metadata": {},
   "outputs": [],
   "source": [
    "file_path ='F:\\\\Block.xlsx'\n",
    "Sheet_name = 'Sheet1'\n",
    "df= pd.read_excel(file_path, Sheet_name, engine='openpyxl')"
   ]
  },
  {
   "cell_type": "code",
   "execution_count": 3,
   "id": "c648be3d",
   "metadata": {},
   "outputs": [
    {
     "data": {
      "text/plain": [
       "((59194, 4), (14799, 4), (59194,), (14799,))"
      ]
     },
     "execution_count": 3,
     "metadata": {},
     "output_type": "execute_result"
    }
   ],
   "source": [
    "X = df[['Year', 'Month', 'Day', 'Hour']] \n",
    "Y = df['D'] \n",
    "\n",
    "X_train, X_test, Y_train, Y_test = train_test_split(X, Y, test_size=0.2, random_state=42)\n",
    "(X_train.shape, X_test.shape, Y_train.shape, Y_test.shape)"
   ]
  },
  {
   "cell_type": "code",
   "execution_count": 4,
   "id": "09bff4f9",
   "metadata": {},
   "outputs": [],
   "source": [
    "KNN = KNeighborsRegressor(n_neighbors=5)\n",
    "KNN.fit(X_train, Y_train)\n",
    "Y_pred = KNN.predict(X_test)"
   ]
  },
  {
   "cell_type": "code",
   "execution_count": 5,
   "id": "54735b9d",
   "metadata": {},
   "outputs": [
    {
     "name": "stdout",
     "output_type": "stream",
     "text": [
      "[37215.  35009.8 34078.2 ... 45402.4 43441.4 42278.8]\n"
     ]
    }
   ],
   "source": [
    "Y_pred_full = KNN.predict(X)\n",
    "print(Y_pred_full)"
   ]
  },
  {
   "cell_type": "code",
   "execution_count": 7,
   "id": "a3239224",
   "metadata": {},
   "outputs": [],
   "source": [
    "original_df = pd.read_excel(file_path, sheet_name=Sheet_name)\n",
    "original_df['Predicted_D_KNN'] = Y_pred_full.ravel()\n",
    "updated_file_path = 'Block.xlsx'\n",
    "original_df.to_excel(file_path, index=False)"
   ]
  },
  {
   "cell_type": "code",
   "execution_count": 8,
   "id": "d63887e4",
   "metadata": {},
   "outputs": [
    {
     "name": "stdout",
     "output_type": "stream",
     "text": [
      "R^2: 0.978929701419854\n",
      "RMSE: 1535.9059210148514\n"
     ]
    }
   ],
   "source": [
    "r2 = r2_score(Y, Y_pred_full)\n",
    "mse = mean_squared_error(Y, Y_pred_full)\n",
    "rmse = sqrt(mse)\n",
    "\n",
    "print(f'R^2: {r2}')\n",
    "print(f'RMSE: {rmse}')"
   ]
  },
  {
   "cell_type": "code",
   "execution_count": 8,
   "id": "29ca288d",
   "metadata": {},
   "outputs": [
    {
     "name": "stdout",
     "output_type": "stream",
     "text": [
      "Elapsed time: 24.041860103607178 seconds\n"
     ]
    }
   ],
   "source": [
    "end_time = time.time()\n",
    "\n",
    "# Calculate and print the elapsed time\n",
    "elapsed_time = end_time - start_time\n",
    "print(f\"Elapsed time: {elapsed_time} seconds\")"
   ]
  },
  {
   "cell_type": "code",
   "execution_count": null,
   "id": "8165a166",
   "metadata": {},
   "outputs": [],
   "source": []
  }
 ],
 "metadata": {
  "kernelspec": {
   "display_name": "Python 3 (ipykernel)",
   "language": "python",
   "name": "python3"
  },
  "language_info": {
   "codemirror_mode": {
    "name": "ipython",
    "version": 3
   },
   "file_extension": ".py",
   "mimetype": "text/x-python",
   "name": "python",
   "nbconvert_exporter": "python",
   "pygments_lexer": "ipython3",
   "version": "3.9.13"
  }
 },
 "nbformat": 4,
 "nbformat_minor": 5
}
